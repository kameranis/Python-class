{
 "cells": [
  {
   "cell_type": "markdown",
   "metadata": {},
   "source": [
    "# Lab 1\n",
    "Εδώ θα εφαρμόσετε όσα μάθαμε στο πρώτο μάθημα. Παρακάτω ειναι TODO προβλήματα για να λύσετε. Κάθε πρόβλημα θα έχει την εκφώνηση, έναν σκελετό και κάποια απλά testcases."
   ]
  },
  {
   "cell_type": "code",
   "execution_count": null,
   "metadata": {
    "collapsed": true
   },
   "outputs": [],
   "source": [
    "def last_elem(elements):\n",
    "    '''Find the last element of a list'''\n",
    "    return 0\n",
    "\n",
    "assert(last_elem([1, 2, 3]) == 3)\n",
    "assert(last_elem([3, 57, 1, 40, 12, 35]) == 35)\n",
    "assert(last_elem(['Hello']) == 'o')\n",
    "assert(last_elem([4, 8, 15, 16, 23, 42]) == 42)"
   ]
  },
  {
   "cell_type": "code",
   "execution_count": null,
   "metadata": {
    "collapsed": true
   },
   "outputs": [],
   "source": [
    "def last_but_one(elements):\n",
    "    '''Find the last but one element of a list'''\n",
    "    return 0\n",
    "\n",
    "assert(last_but_one([1, 2, 3]) == 2)\n",
    "assert(last_but_one([3, 57, 1, 40, 12, 35]) == 12)\n",
    "assert(last_but_one(['Hello']) == 'l')\n",
    "assert(last_but_one([4, 8, 15, 16, 23, 42]) == 23)"
   ]
  },
  {
   "cell_type": "code",
   "execution_count": null,
   "metadata": {
    "collapsed": true
   },
   "outputs": [],
   "source": [
    "def get_kth(elements, k):\n",
    "    '''Find the K'th element of a list.\n",
    "    The first element in the list is number 1.'''\n",
    "    return 0\n",
    "\n",
    "assert(get_kth([1, 2, 3], 1) == 1)\n",
    "assert(get_kth([3, 57, 1, 40, 12, 35], 2) == 57)\n",
    "assert(get_kth(['Hello'], 3) == 'l')\n",
    "assert(get_kth([4, 8, 15, 16, 23, 42], 5) == 23)"
   ]
  },
  {
   "cell_type": "code",
   "execution_count": null,
   "metadata": {
    "collapsed": true
   },
   "outputs": [],
   "source": [
    "def get_length(elements):\n",
    "    '''Find the number of elements of a list.'''\n",
    "    return False\n",
    "\n",
    "assert(get_length([1, 2, 3]) == 3)\n",
    "assert(get_length([3, 57, 1, 40, 12, 35]) == 6)\n",
    "assert(get_length(['Hello']) == 5)\n",
    "assert(get_length([4, 8, 15, 16, 23, 42]) == 6)"
   ]
  },
  {
   "cell_type": "code",
   "execution_count": null,
   "metadata": {
    "collapsed": true
   },
   "outputs": [],
   "source": [
    "def reverse(elements):\n",
    "    '''Reverse a list'''\n",
    "    return 0\n",
    "\n",
    "assert(reverse([1, 2, 3]) == [3, 2, 1])\n",
    "assert(reverse([3, 57, 1, 40, 12, 35]) == [35, 12, 40, 1, 57, 3])\n",
    "assert(reverse(['Hello']) == 'olleH')\n",
    "assert(reverse([4, 8, 15, 16, 23, 42]) == [42, 23, 16, 15, 8, 4])"
   ]
  },
  {
   "cell_type": "code",
   "execution_count": null,
   "metadata": {
    "collapsed": true
   },
   "outputs": [],
   "source": [
    "def is_palindrome(elements):\n",
    "    '''Find out whether a list is a palindrome.\n",
    "    A palindrome can be read forward or backward; e.g. [x,a,m,a,x].'''\n",
    "    return 0\n",
    "\n",
    "assert(not is_palindrome([1, 2, 3]))\n",
    "assert(is_palindrome([3, 57, 1, 40, 1, 57, 3]))\n",
    "assert(not is_palindrome(['Hello']) == 5)\n",
    "assert(not is_palindrome([4, 8, 15, 16, 23, 42]) == 6)\n",
    "assert(is_palindrome('aibohphobia'))"
   ]
  },
  {
   "cell_type": "code",
   "execution_count": null,
   "metadata": {
    "collapsed": true
   },
   "outputs": [],
   "source": [
    "def flatten(elements):\n",
    "    '''Flatten a nested list structure.\n",
    "    Transform a list, possibly holding lists\n",
    "    as elements into a 'flat' list by replacing each list\n",
    "    with its elements (recursively).'''\n",
    "    return []\n",
    "\n",
    "assert(flatten([1, [2, [3]]]) == [1, 2, 3])\n",
    "assert(flatten([2, [5, 4, 'a'], [5, 3.2], [[1]]]) == [2, 5, 4, 'a', 5, 3.2, 1])\n",
    "assert(flatten([[1, 2, 3, 4, 5]]) == [1, 2, 3, 4, 5])"
   ]
  },
  {
   "cell_type": "code",
   "execution_count": null,
   "metadata": {
    "collapsed": true
   },
   "outputs": [],
   "source": [
    "def compress(elements):\n",
    "    '''Eliminate consecutive duplicates of list elements\n",
    "    If a list contains repeated elements they should\n",
    "    be replaced with a single copy of the element.\n",
    "    The order of the elements should not be changed.'''\n",
    "    return []\n",
    "\n",
    "assert(compress(['a', 'a', 'a', 'a', 'b', 'c', 'c', 'a', 'a', 'd',\n",
    "                 'e', 'e', 'e', 'e']) == ['a', 'b', 'c', 'a', 'd', 'e'])\n",
    "assert(compress([1, 1, 1, 1, 2, 2, 2, 3, 1, 1, 1, 2, 2, 4, 4, 2, 2]) == [1, 2, 3, 1, 2, 4, 2])"
   ]
  },
  {
   "cell_type": "code",
   "execution_count": null,
   "metadata": {
    "collapsed": true
   },
   "outputs": [],
   "source": [
    "def pack(elements):\n",
    "    '''Pack consecutive duplicates of list elements into sublists.\n",
    "    If a list contains repeated elements they should be placed in separate sublists.'''\n",
    "    return [[]]\n",
    "\n",
    "assert(pack(['a', 'a', 'a', 'a', 'b', 'c', 'c', 'a', 'a', 'd', 'e', 'e', 'e', 'e']) == \\\n",
    "            [['a', 'a', 'a', 'a'], ['b'], ['c', 'c'], ['a', 'a'], ['d'], ['e', 'e', 'e', 'e']])\n",
    "assert(pack([1, 1, 1, 1, 2, 2, 2, 3, 1, 1, 1, 2, 2, 4, 4, 2, 2]) == \\\n",
    "            [[1, 1, 1, 1], [2, 2, 2], [3], [1, 1, 1], [2, 2], [4, 4], [2, 2])"
   ]
  },
  {
   "cell_type": "code",
   "execution_count": null,
   "metadata": {
    "collapsed": true
   },
   "outputs": [],
   "source": [
    "def dupl(elements):\n",
    "    '''Duplicate the elements of a list.'''\n",
    "    return []\n",
    "\n",
    "assert(dupl(['a', 'b', 'c']) == ['a', 'a', 'b', 'b', 'c', 'c'])\n",
    "assert(dupl([1, 3, 5.5, 'a']) == [1, 1, 3, 3, 5.5, 'a', 'a'])"
   ]
  },
  {
   "cell_type": "code",
   "execution_count": null,
   "metadata": {
    "collapsed": true
   },
   "outputs": [],
   "source": [
    "def dupli(elements, times):\n",
    "    '''Duplicate the elements of a list a given number of times.'''\n",
    "    return []\n",
    "\n",
    "assert(dupli(['a', 'b', 'c'], 3) == ['a', 'a', 'a', 'b', 'b', 'b', 'c', 'c', 'c'])\n",
    "assert(dupli([1, 3, 5.5, 'a'], 2) == [1, 1, 3, 3, 5.5, 'a', 'a'])"
   ]
  },
  {
   "cell_type": "code",
   "execution_count": null,
   "metadata": {
    "collapsed": true
   },
   "outputs": [],
   "source": [
    "def drop(elements, N):\n",
    "    '''Drop every N'th element from a list.'''\n",
    "    return []\n",
    "\n",
    "assert(drop(range(10), 3) == [0, 1, 4, 5, 7, 8])\n",
    "assert(drop([2, 5, 1, 7, 3, 321, 623, 6, 21], 4) == [2, 5, 1, 3, 321, 623, 21])"
   ]
  },
  {
   "cell_type": "code",
   "execution_count": null,
   "metadata": {
    "collapsed": true
   },
   "outputs": [],
   "source": [
    "def split(elements, N):\n",
    "    '''Split a list into two parts; the length of the first part is given.'''\n",
    "    return []\n",
    "\n",
    "assert(split(range(10), 3) == [0, 1, 2])\n",
    "assert(split([2, 5, 1, 7, 3, 321, 623, 6, 21], 4) == [2, 5, 1, 7])"
   ]
  },
  {
   "cell_type": "code",
   "execution_count": null,
   "metadata": {
    "collapsed": true
   },
   "outputs": [],
   "source": [
    "def slice(elements, i, j):\n",
    "    '''Extract a slice from a list.\n",
    "    Given two indices, I and K, the slice is the list\n",
    "    containing the elements between the I'th and K'th element of the original list\n",
    "    (both limits included). Start counting the elements with 1.'''\n",
    "    return []\n",
    "\n",
    "assert(slice(range(10), 3, 5) == [2, 3, 4])\n",
    "assert(slice([2, 5, 1, 7, 3, 321, 623, 6, 21], 4, 9) == [7, 3, 321, 623, 6, 21])"
   ]
  },
  {
   "cell_type": "code",
   "execution_count": null,
   "metadata": {
    "collapsed": true
   },
   "outputs": [],
   "source": [
    "def remove_at(elements, K):\n",
    "    '''Remove the K'th element from a list.'''\n",
    "    return []\n",
    "\n",
    "assert(remove_at(range(10), 3) == [0, 1, 3, 4, 5, 6, 7, 8])\n",
    "assert(remove_at([2, 5, 1, 7, 3, 321, 623, 6, 21], 9) == [2, 5, 1, 7, 3, 321, 623, 6])"
   ]
  },
  {
   "cell_type": "code",
   "execution_count": null,
   "metadata": {
    "collapsed": true
   },
   "outputs": [],
   "source": [
    "def insert_at(elements, elem, K):\n",
    "    '''Insert an element at a given position into a list.'''\n",
    "    return []\n",
    "\n",
    "assert(insert_at(range(10), 11, 10) == [0, 1, 2, 3, 4, 5, 6, 7, 8, 9, 11])\n",
    "assert(insert_at([2, 5, 1, 7, 3, 321, 623, 6, 21], 4, 5) == [2, 5, 1, 7, 5, 3, 321, 623, 6, 21])"
   ]
  }
 ],
 "metadata": {
  "kernelspec": {
   "display_name": "Python 3",
   "language": "python",
   "name": "python3"
  },
  "language_info": {
   "codemirror_mode": {
    "name": "ipython",
    "version": 3
   },
   "file_extension": ".py",
   "mimetype": "text/x-python",
   "name": "python",
   "nbconvert_exporter": "python",
   "pygments_lexer": "ipython3",
   "version": "3.6.0"
  }
 },
 "nbformat": 4,
 "nbformat_minor": 2
}
