{
 "cells": [
  {
   "cell_type": "markdown",
   "metadata": {},
   "source": [
    "# Python Interactive\n",
    "\n",
    "Η πιο απλή χρήση του Python Interpreter είναι για τον υπολογισμό απλών μαθηματικών πράξεων."
   ]
  },
  {
   "cell_type": "code",
   "execution_count": null,
   "metadata": {
    "collapsed": false
   },
   "outputs": [],
   "source": [
    "6 * 7"
   ]
  },
  {
   "cell_type": "code",
   "execution_count": null,
   "metadata": {
    "collapsed": false
   },
   "outputs": [],
   "source": [
    "# Convert 20 degrees Celsius to Fahrenheit\n",
    "20 * 9 / 5 + 32"
   ]
  },
  {
   "cell_type": "markdown",
   "metadata": {},
   "source": [
    "Επειδή όμως σπάνια ξέρουμε εκ των προτέρων τις τιμές που πρέπει να μπουν μέσα στις εκφράσεις στο κώδικά μας, χρειαζόμαστε μεταβλητές.\n",
    "\n",
    "Η python είναι dynamically typed, οπότε δεν χρειάζεται να ορίσουμε τύπο μέσα στον κώδικα."
   ]
  },
  {
   "cell_type": "code",
   "execution_count": null,
   "metadata": {
    "collapsed": false
   },
   "outputs": [],
   "source": [
    "c = 20\n",
    "c * 9 / 5 + 32"
   ]
  },
  {
   "cell_type": "markdown",
   "metadata": {},
   "source": [
    "Το ότι δεν ορίζουμε τύπο, δεν σημαίνει ότι οι μεταβλητές δεν έχουν τύπο. Απλά ορίζεται στο runtime"
   ]
  },
  {
   "cell_type": "code",
   "execution_count": null,
   "metadata": {
    "collapsed": false
   },
   "outputs": [],
   "source": [
    "type(c)"
   ]
  },
  {
   "cell_type": "markdown",
   "metadata": {},
   "source": [
    "## Συναρτήσεις\n",
    "Όπως κάθε γλώσσα, η python ορίζει συναρτήσεις"
   ]
  },
  {
   "cell_type": "code",
   "execution_count": null,
   "metadata": {
    "collapsed": false
   },
   "outputs": [],
   "source": [
    "def to_fahrenheit(temperature):\n",
    "    return temperature * 9 / 5 + 32\n",
    "    \n",
    "to_fahrenheit(c)"
   ]
  },
  {
   "cell_type": "markdown",
   "metadata": {},
   "source": [
    "## Έλεγχος ροής\n",
    "Το άλλο χαρακτηριστικό κάθε γλώσσας είναι ο έλεγχος ροής. Για επιλογή υπάρχει το **if** και για επανάληψη υπάρχουν τα **for** και **while**.\n",
    "\n",
    "Αντίθετα με τις C/C++/Java, τα conditions δεν χρειάζεται να βρίσκονται μέσα σε παρενθέσεις. Ο άλλος τρόπος με τον οποίο η python μικραίνει τα προγράμματά της είναι ότι **δεν χρησιμοποιεί braces**. Αντίθετα, χρησιμοποιούν το indentation για να ορίσουν το code block. Παρόλο που δεν έχει σημασία πόσα spaces ορίζουν ένα indentation level, η συνήθης πρακτική είναι 4 κενά (no tabs)."
   ]
  },
  {
   "cell_type": "code",
   "execution_count": null,
   "metadata": {
    "collapsed": false
   },
   "outputs": [],
   "source": [
    "flat = False\n",
    "if flat:\n",
    "    print(\"Glory to the great A'tuin\")\n",
    "else:\n",
    "    print(\"Around the world, I feel beautiful!\")"
   ]
  },
  {
   "cell_type": "markdown",
   "metadata": {},
   "source": [
    "Σε συνδιασμό με την for συνήθως χρησιμοποιείται η συνάρτηση range(start, stop, step)"
   ]
  },
  {
   "cell_type": "code",
   "execution_count": null,
   "metadata": {
    "collapsed": false
   },
   "outputs": [],
   "source": [
    "for i in range(10):\n",
    "    print(i)"
   ]
  },
  {
   "cell_type": "code",
   "execution_count": null,
   "metadata": {
    "collapsed": false
   },
   "outputs": [],
   "source": [
    "for i in range(1, 10 ,2):\n",
    "    print(i)"
   ]
  },
  {
   "cell_type": "code",
   "execution_count": null,
   "metadata": {
    "collapsed": false
   },
   "outputs": [],
   "source": [
    "i = 1\n",
    "while(i < 1000):\n",
    "    print(i)\n",
    "    i *= 2\n",
    "print(i)"
   ]
  },
  {
   "cell_type": "markdown",
   "metadata": {},
   "source": [
    "## Δομές δεδομένων\n",
    "Κάτι άλλο σημαντικό στον προγραμματισμό είναι η αποθήκευση πολλών τιμών. Στην python, τα τρία βασικά structures για την αποθήκευση δεδομένων είναι list, tuple και dictionary.\n",
    "\n",
    "### List\n",
    "Η λίστα περιέχει απλά μια παράθεση αντικειμένων."
   ]
  },
  {
   "cell_type": "code",
   "execution_count": null,
   "metadata": {
    "collapsed": false
   },
   "outputs": [],
   "source": [
    "a = [1, 2.0, False, \"Hello\"]\n",
    "a[1]"
   ]
  },
  {
   "cell_type": "markdown",
   "metadata": {},
   "source": [
    "Για να βρούμε το μήκος μιας λίστας, παίρνουμε απλά την συνάρτηση len."
   ]
  },
  {
   "cell_type": "code",
   "execution_count": null,
   "metadata": {
    "collapsed": false
   },
   "outputs": [],
   "source": [
    "len(a)"
   ]
  },
  {
   "cell_type": "markdown",
   "metadata": {},
   "source": [
    "Η python προσφέρει έναν πολύ χρήσιμο μηχανισμό για να πάρουμε το τελευταίο στοιχείο μιας λίστας."
   ]
  },
  {
   "cell_type": "code",
   "execution_count": null,
   "metadata": {
    "collapsed": false
   },
   "outputs": [],
   "source": [
    "a[-1]"
   ]
  },
  {
   "cell_type": "markdown",
   "metadata": {},
   "source": [
    "Η πιο συνήθης λειτουργεία σε μια λίστα είναι να βάλουμε ένα στοιχείο στο τέλος. Η λίστα είναι αντικείμενο και η παραπάνω λειτουργία γίνεται με την μέθοδο **append**."
   ]
  },
  {
   "cell_type": "code",
   "execution_count": null,
   "metadata": {
    "collapsed": false
   },
   "outputs": [],
   "source": [
    "a.append(\"The Spanish Inquisition\")\n",
    "a"
   ]
  },
  {
   "cell_type": "markdown",
   "metadata": {},
   "source": [
    "Επίσης, μπορούμε να βάλουμε ένα στοιχείο στην θέση που θέλουμε (αλλά είναι πιο ακριβό υπολογιστικά). Θα χρησιμόποιήσουμε την μέθοδο **insert**."
   ]
  },
  {
   "cell_type": "code",
   "execution_count": null,
   "metadata": {
    "collapsed": false
   },
   "outputs": [],
   "source": [
    "a.insert(2, 42)\n",
    "a"
   ]
  },
  {
   "cell_type": "markdown",
   "metadata": {},
   "source": [
    "Τέλος μπορούμε να επεκτείνουμε την λίστα μας με μια άλλη λίστα, δηλαδή να τις συνεννώσουμε. Εδώ φαίνεται η χρήση της μεθόδου **extend**."
   ]
  },
  {
   "cell_type": "code",
   "execution_count": null,
   "metadata": {
    "collapsed": false
   },
   "outputs": [],
   "source": [
    "a.extend(range(3))\n",
    "a"
   ]
  },
  {
   "cell_type": "markdown",
   "metadata": {},
   "source": [
    "Αυτοί είναι οι τρόποι να προσθέσουμε στοιχεία. Εκτός όμως από αυτό, θέλουμε να μπορούμε να αφαιρέσουμε στοιχεία. Αν θέλουμε να αφαιρέσουμε μια τιμή από την λίστα, τότε καλούμε την **remove**. Αν θέλουμε να αφαιρέσουμε ένα στοιχείο με βάση την θέση του στον πίνακα, τότε καλούμε την **pop**."
   ]
  },
  {
   "cell_type": "code",
   "execution_count": null,
   "metadata": {
    "collapsed": false
   },
   "outputs": [],
   "source": [
    "a.remove(False)\n",
    "a.pop(2)\n",
    "a"
   ]
  },
  {
   "cell_type": "markdown",
   "metadata": {},
   "source": [
    "Μπορούμε να βρούμε πόσες φορές εμφανίζεται ένα στοιχείο με την **count**."
   ]
  },
  {
   "cell_type": "code",
   "execution_count": null,
   "metadata": {
    "collapsed": false
   },
   "outputs": [],
   "source": [
    "a.count(2)"
   ]
  },
  {
   "cell_type": "markdown",
   "metadata": {},
   "source": [
    "Ή την πρώτη φορά που εμφανίζεται με την **index**."
   ]
  },
  {
   "cell_type": "code",
   "execution_count": null,
   "metadata": {
    "collapsed": false
   },
   "outputs": [],
   "source": [
    "a.index(0)"
   ]
  },
  {
   "cell_type": "markdown",
   "metadata": {},
   "source": [
    "Ο standard τρόπος για να κάνουμε iterate στα στοιχεία μιας λίστα είναι ο παρακάτω."
   ]
  },
  {
   "cell_type": "code",
   "execution_count": null,
   "metadata": {
    "collapsed": false
   },
   "outputs": [],
   "source": [
    "for i in a:\n",
    "    print(i)"
   ]
  },
  {
   "cell_type": "markdown",
   "metadata": {},
   "source": [
    "Ένα πολύ δυνατό χαρακτηριστικό της python είναι η list comprehension. Αυτό μας επιτρέπει να κατασκευάσουμε λίστες γρηγορότερα, πιο κατανοητά και με μεγαλύτερη ευκολία. Ένας τρόπος για να κατασκευάσουμε μια λίστα με τετράγωνα των περιττών αριθμών είναι ο παρακάτω:"
   ]
  },
  {
   "cell_type": "code",
   "execution_count": null,
   "metadata": {
    "collapsed": false
   },
   "outputs": [],
   "source": [
    "l = []\n",
    "for i in range(10):\n",
    "    if i % 2:\n",
    "        l.append(i*i)\n",
    "l"
   ]
  },
  {
   "cell_type": "markdown",
   "metadata": {},
   "source": [
    "Με list comprehension θα γινόταν έτσι:"
   ]
  },
  {
   "cell_type": "code",
   "execution_count": null,
   "metadata": {
    "collapsed": false
   },
   "outputs": [],
   "source": [
    "l = [i*i for i in range(10) if i % 2]\n",
    "l"
   ]
  },
  {
   "cell_type": "markdown",
   "metadata": {},
   "source": [
    "### Tuple\n",
    "Πολύ παρόμοιο με την λίστα είναι το tuple, με την διαφορά ότι είναι immutable"
   ]
  },
  {
   "cell_type": "code",
   "execution_count": null,
   "metadata": {
    "collapsed": false
   },
   "outputs": [],
   "source": [
    "b = (1, 2)\n",
    "print(b[1])\n",
    "b[1] = 3"
   ]
  },
  {
   "cell_type": "markdown",
   "metadata": {},
   "source": [
    "### Dictionary\n",
    "Το τρίτο πιο βασικό data structure της python είναι το dictionary. Βασικά πρόκειται για ένα hash map."
   ]
  },
  {
   "cell_type": "code",
   "execution_count": null,
   "metadata": {
    "collapsed": false
   },
   "outputs": [],
   "source": [
    "d = {'a': 1, 'b': 2, 'c': 3}\n",
    "d"
   ]
  },
  {
   "cell_type": "markdown",
   "metadata": {},
   "source": [
    "Για να προσθέσουμε ή να ανανεώσουμε την τιμή ενός κλειδιού, απλά αναθέτουμε τιμή!"
   ]
  },
  {
   "cell_type": "code",
   "execution_count": null,
   "metadata": {
    "collapsed": false
   },
   "outputs": [],
   "source": [
    "d['a'] = 0\n",
    "d['d'] = 4\n",
    "d"
   ]
  },
  {
   "cell_type": "markdown",
   "metadata": {},
   "source": [
    "Ο standard τρόπος για να κάνουμε iterate σε ένα dictionary φαίνεται παρακάτω."
   ]
  },
  {
   "cell_type": "code",
   "execution_count": null,
   "metadata": {
    "collapsed": false
   },
   "outputs": [],
   "source": [
    "for key, value in d.items():\n",
    "    print(key, value)"
   ]
  },
  {
   "cell_type": "markdown",
   "metadata": {},
   "source": [
    "Είναι σημαντικό να θυμάστε ότι η σειρά που θα έρθουν τα κλειδιά, δεν είναι ούτε λεξικογραφική, ούτε αυτή με την οποία τα προσθέσατε. Αν θέλετε την σειρά με την οποία τα βάλατε, χρησιμοποιήστε την OrderedDict των collections (θα μιλήσουμε σε επόμενη διάλεξη)."
   ]
  },
  {
   "cell_type": "markdown",
   "metadata": {
    "collapsed": true
   },
   "source": [
    "# Άσκηση\n",
    "\n",
    "Σαν πρώτη άσκηση, θα κάνουμε throwback στο 2012 και στην εργαστηριακή εξέταση της εισαγωγής στον προγραμματισμό με το πρόβλημα twoends. Σας δίνεται μια λίστα από θετικούς ακεραίους και σας ζητείται να βρείτε τα μεγαλύτερα μη επικαλυπτόμενα διαστήματα στην αρχή και το τέλος που έχουν το ίδιο άθροισμα.\n",
    "\n",
    "Παράδειγμα:\n",
    "1 3 5 2 7 3 1 6 5\n",
    "\n",
    "Στο πάραδειγμα αυτό, η λύση είναι 11, αφού τα μέγιστα διαστήματα είναι 1 3 5 2 στην αρχή και 6 5 στο τέλος"
   ]
  },
  {
   "cell_type": "code",
   "execution_count": null,
   "metadata": {
    "collapsed": true
   },
   "outputs": [],
   "source": [
    "def twoends(numbers):\n",
    "    N = len(numbers)\n",
    "    s = 0\n",
    "    \n",
    "    # Your code here\n",
    "    \n",
    "    return s\n",
    "\n",
    "assert(twoends([1, 3, 5, 2, 7, 3, 1, 6, 5]) == 11)\n",
    "assert()\n",
    "assert()"
   ]
  }
 ],
 "metadata": {
  "kernelspec": {
   "display_name": "Python 3",
   "language": "python",
   "name": "python3"
  },
  "language_info": {
   "codemirror_mode": {
    "name": "ipython",
    "version": 3
   },
   "file_extension": ".py",
   "mimetype": "text/x-python",
   "name": "python",
   "nbconvert_exporter": "python",
   "pygments_lexer": "ipython3",
   "version": "3.6.0"
  }
 },
 "nbformat": 4,
 "nbformat_minor": 2
}
